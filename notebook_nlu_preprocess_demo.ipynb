{
 "cells": [
  {
   "cell_type": "markdown",
   "id": "respiratory-milwaukee",
   "metadata": {},
   "source": [
    "This `notebook_nlu_preprocess_demo` show you how to use the out NLU Preprocess Module as \n",
    "- preprocess function\n",
    "- add new acronym\n",
    "\n",
    "It also point some drawbacks of the module and we focus on dealing with in the future."
   ]
  },
  {
   "cell_type": "markdown",
   "id": "integral-ratio",
   "metadata": {},
   "source": [
    "### Step 1: Init a preprocess module"
   ]
  },
  {
   "cell_type": "code",
   "execution_count": 40,
   "id": "capital-being",
   "metadata": {},
   "outputs": [
    {
     "name": "stdout",
     "output_type": "stream",
     "text": [
      "The autoreload extension is already loaded. To reload it, use:\n",
      "  %reload_ext autoreload\n"
     ]
    },
    {
     "name": "stderr",
     "output_type": "stream",
     "text": [
      "DEBUG:root:The module load input dictionary succesfully\n"
     ]
    }
   ],
   "source": [
    "%load_ext autoreload\n",
    "%autoreload 2\n",
    "\n",
    "# easy to init an instance of preprocess module\n",
    "from preprocess_module.preprocess import PreProcessModule\n",
    "pp = PreProcessModule()"
   ]
  },
  {
   "cell_type": "markdown",
   "id": "matched-teaching",
   "metadata": {},
   "source": [
    "### Step 2: Example about correct sentence"
   ]
  },
  {
   "cell_type": "code",
   "execution_count": 14,
   "id": "virgin-victorian",
   "metadata": {},
   "outputs": [
    {
     "data": {
      "text/plain": [
       "'what be my follower click on the most'"
      ]
     },
     "execution_count": 14,
     "metadata": {},
     "output_type": "execute_result"
    }
   ],
   "source": [
    "# please enter the sentence which we want to correct.\n",
    "sentence = \"What are my followers clicking on the most?\"\n",
    "pp.process_sent(sentence)"
   ]
  },
  {
   "cell_type": "code",
   "execution_count": 30,
   "id": "tribal-texas",
   "metadata": {},
   "outputs": [
    {
     "name": "stdout",
     "output_type": "stream",
     "text": [
      "Input: What are my followers clicking on the most?\n",
      "Output: what be my follower click on the most\n",
      "---------------------\n",
      "\n",
      "Input: What Are My Followers Clicking On The Most?\n",
      "Output: what be my follower click on the most\n",
      "---------------------\n",
      "\n",
      "Input: What. are. my. followers. clicking. on. the. most?\n",
      "Output: what be my follower click on the most\n",
      "---------------------\n",
      "\n",
      "Input: Whatare myfollowers clickingon themost?\n",
      "Output: what be my follower click on the most\n",
      "---------------------\n",
      "\n",
      "Input: WhatAre MyFollowers ClickingOn TheMost?\n",
      "Output: what be my follower click on the most\n",
      "---------------------\n",
      "\n",
      "Input: What:::are.my.followers()clicking[]on.the,,,,most :)))?\n",
      "Output: what be my follower click on the most\n",
      "---------------------\n",
      "\n",
      "Input: What are my followers click on the most?\n",
      "Output: what be my follower click on the most\n",
      "---------------------\n",
      "\n",
      "Input: What are my followers clicking otm?\n",
      "Output: what be my follower click on the most\n",
      "---------------------\n",
      "\n",
      "Input: What are mxy followerrss clicking on the mostt?\n",
      "Output: what be my follower click on the most\n",
      "---------------------\n",
      "\n"
     ]
    }
   ],
   "source": [
    "# The result with the some other input\n",
    "sentences = [\n",
    "            \"What are my followers clicking on the most?\", \n",
    "            \"What Are My Followers Clicking On The Most?\",\n",
    "            \"What. are. my. followers. clicking. on. the. most?\",\n",
    "    \n",
    "            \"Whatare myfollowers clickingon themost?\",\n",
    "            \"WhatAre MyFollowers ClickingOn TheMost?\",\n",
    "            \"What:::are.my.followers()clicking[]on.the,,,,most :)))?\",        \n",
    "            \n",
    "            \"What are my followers click on the most?\",\n",
    "            \"What are my followers clicking otm?\",\n",
    "            \"What are mxy followerrss clicking on the mostt?\"\n",
    "            ]\n",
    "for sentence in sentences:\n",
    "    pp.process_sent(sentence, print_stt = True)"
   ]
  },
  {
   "cell_type": "code",
   "execution_count": 38,
   "id": "accessible-privacy",
   "metadata": {},
   "outputs": [
    {
     "name": "stdout",
     "output_type": "stream",
     "text": [
      "Input: What are mxy followss clccking on the most?\n",
      "Output: what be my follow click on the most\n",
      "---------------------\n",
      "\n",
      "Input: Whatarmyfollowersclickingonthemost?\n",
      "Output: what army follower click on the most\n",
      "---------------------\n",
      "\n",
      "Input: What are my followerrss clicking otm?\n",
      "Output: what be my follower click tom\n",
      "---------------------\n",
      "\n"
     ]
    }
   ],
   "source": [
    "# The draw back of my module\n",
    "sentences = [\n",
    "            \"What are mxy followss clccking on the most?\",     # too incorrect word (clicking -> clccking 'clocking/clicking')\n",
    "            \"Whatarmyfollowersclickingonthemost?\",             # without space + incorrect word (are -> ar)\n",
    "            \"What are my followerrss clicking otm?\"            # incorrect word + acronym (followers -> followerrss, on the most -> otm)\n",
    "            ]\n",
    "for sentence in sentences:\n",
    "    pp.process_sent(sentence, print_stt = True)"
   ]
  },
  {
   "cell_type": "markdown",
   "id": "political-stevens",
   "metadata": {},
   "source": [
    "### Step 3: Add new acronym to the module"
   ]
  },
  {
   "cell_type": "code",
   "execution_count": 22,
   "id": "leading-decade",
   "metadata": {},
   "outputs": [],
   "source": [
    "# easy to add new acronym to our module\n",
    "acronyms = {\"tp\": \"top products\"}\n",
    "pp.update_acronym_words(acronyms)"
   ]
  },
  {
   "cell_type": "markdown",
   "id": "cubic-relations",
   "metadata": {},
   "source": [
    "### Step 4: Test after adding the new acronym"
   ]
  },
  {
   "cell_type": "code",
   "execution_count": 26,
   "id": "breathing-conducting",
   "metadata": {},
   "outputs": [
    {
     "data": {
      "text/plain": [
       "'what be my top product'"
      ]
     },
     "execution_count": 26,
     "metadata": {},
     "output_type": "execute_result"
    }
   ],
   "source": [
    "# test with new acronym\n",
    "sentence = \"What are my TP?\"\n",
    "        # sentence = \"What are my tp?\"\n",
    "        # sentence = \"What are mytp?\"\n",
    "pp.process_sent(sentence)"
   ]
  }
 ],
 "metadata": {
  "kernelspec": {
   "display_name": "nlu_preprocess",
   "language": "python",
   "name": "venv"
  },
  "language_info": {
   "codemirror_mode": {
    "name": "ipython",
    "version": 3
   },
   "file_extension": ".py",
   "mimetype": "text/x-python",
   "name": "python",
   "nbconvert_exporter": "python",
   "pygments_lexer": "ipython3",
   "version": "3.8.5"
  }
 },
 "nbformat": 4,
 "nbformat_minor": 5
}
